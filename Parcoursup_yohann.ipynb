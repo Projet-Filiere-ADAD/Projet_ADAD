{
  "cells": [
    {
      "cell_type": "markdown",
      "metadata": {
        "id": "-HEf63hT0l8K"
      },
      "source": [
        "Quels sont les critères impactant l'admission d'un néo bachelier boursier ?"
      ]
    },
    {
      "cell_type": "markdown",
      "metadata": {
        "colab": {
          "base_uri": "https://localhost:8080/"
        },
        "id": "JwIh5CP_5KsV",
        "outputId": "14aed0f5-80ff-44d1-dd26-1f7705ecf05b"
      },
      "source": [
        "!pip install dash"
      ]
    },
    {
      "cell_type": "markdown",
      "metadata": {
        "id": "rT_ebC6K1T1s"
      },
      "source": [
        "## 1. Importation sous forme de DataFrame"
      ]
    },
    {
      "cell_type": "code",
      "execution_count": 1,
      "metadata": {
        "colab": {
          "base_uri": "https://localhost:8080/",
          "height": 1000
        },
        "id": "dQ2xvd3X1Un9",
        "outputId": "82d17916-a61e-43c3-b38b-b3725b25f886"
      },
      "outputs": [
        {
          "name": "stderr",
          "output_type": "stream",
          "text": [
            "/tmp/ipykernel_15211/2876742758.py:10: DtypeWarning: Columns (42,43,45,46,47) have mixed types. Specify dtype option on import or set low_memory=False.\n",
            "  df = pd.read_csv(url, sep=';')\n"
          ]
        }
      ],
      "source": [
        "import pandas as pd\n",
        "import numpy as np\n",
        "from IPython.display import display\n",
        "import matplotlib.pyplot as plt\n",
        "import seaborn as sns\n",
        "import plotly.express as px\n",
        "from dash import Dash, dcc, html, Input, Output\n",
        "\n",
        "url = \"https://raw.githubusercontent.com/Projet-Filiere-ADAD/Projet_ADAD/main/Donn%C3%A9es/fr-esr-parcoursup_2018-2024.csv\"\n",
        "df = pd.read_csv(url, sep=';')\n",
        "\n",
        "# Affichage du DataFrame\n",
        "#display(df)"
      ]
    },
    {
      "cell_type": "markdown",
      "metadata": {
        "id": "FZi4cPko318C"
      },
      "source": [
        "On est passé de 13869 lignes à 90022 lignes sur le nouveau fichier !"
      ]
    },
    {
      "cell_type": "code",
      "execution_count": 2,
      "metadata": {
        "colab": {
          "base_uri": "https://localhost:8080/"
        },
        "id": "8SMLQ99235rG",
        "outputId": "3022c4b9-c2aa-4641-a605-4af0731a0b58"
      },
      "outputs": [
        {
          "data": {
            "text/plain": [
              "['Session',\n",
              " 'Établissement',\n",
              " 'Département de l’établissement',\n",
              " 'Région de l’établissement',\n",
              " 'Académie de l’établissement',\n",
              " 'Filière de formation très agrégée',\n",
              " 'Filière de formation',\n",
              " 'Filière de formation détaillée',\n",
              " 'Filière de formation très détaillée',\n",
              " 'Coordonnées GPS de la formation',\n",
              " 'Effectif total des candidats pour une formation',\n",
              " 'Effectif total des candidats en phase principale',\n",
              " 'Effectif des candidats néo bacheliers généraux en phase principale',\n",
              " 'Dont effectif des candidats boursiers néo bacheliers généraux en phase principale',\n",
              " 'Effectif des candidats néo bacheliers technologiques en phase principale',\n",
              " 'Dont effectif des candidats boursiers néo bacheliers technologiques en phase principale',\n",
              " 'Effectif des candidats néo bacheliers professionnels en phase principale',\n",
              " 'Dont effectif des candidats boursiers néo bacheliers professionnels en phase principale',\n",
              " 'Effectif total des candidats classés par l’établissement en phase principale',\n",
              " 'Effectif des candidats néo bacheliers généraux classés par l’établissement',\n",
              " 'Dont effectif des candidats boursiers néo bacheliers généraux classés par l’établissement',\n",
              " 'Effectif des candidats néo bacheliers technologiques classés par l’établissement',\n",
              " 'Dont effectif des candidats boursiers néo bacheliers technologiques classés par l’établissement',\n",
              " 'Effectif des candidats néo bacheliers professionnels classés par l’établissement',\n",
              " 'Dont effectif des candidats boursiers néo bacheliers professionnels classés par l’établissement',\n",
              " 'Effectif total des candidats ayant accepté la proposition de l’établissement (admis)',\n",
              " 'Effectif des admis en phase principale',\n",
              " 'Dont effectif des admis boursiers néo bacheliers',\n",
              " 'Effectif des admis néo bacheliers',\n",
              " 'Effectif des admis néo bacheliers généraux',\n",
              " 'Effectif des admis néo bacheliers technologiques',\n",
              " 'Effectif des admis néo bacheliers professionnels',\n",
              " 'Dont effectif des admis issus du même établissement (BTS/CPGE)',\n",
              " 'Dont effectif des admis issus de la même académie (Paris/Créteil/Versailles réunies)',\n",
              " '% d’admis néo bacheliers issus de la même académie (Paris/Créteil/Versailles réunies)',\n",
              " '% d’admis néo bacheliers issus du même établissement (BTS/CPGE)',\n",
              " '% d’admis néo bacheliers boursiers',\n",
              " '% d’admis néo bacheliers',\n",
              " '% d’admis néo bacheliers généraux',\n",
              " '% d’admis néo bacheliers technologiques',\n",
              " '% d’admis néo bacheliers professionnels',\n",
              " 'Statut de l’établissement de la filière de formation (public, privé…)',\n",
              " 'Sélectivité',\n",
              " 'Filière de formation détaillée.1',\n",
              " 'Taux d’accès',\n",
              " 'Commune de l’établissement',\n",
              " 'Filière de formation.1',\n",
              " 'Filière de formation détaillée bis',\n",
              " 'Effectif des candidats en terminale générale ayant reçu une proposition d’admission de la part de l’établissement',\n",
              " 'Dont effectif des candidats boursiers en terminale générale ayant reçu une proposition d’admission de la part de l’établissement',\n",
              " 'Effectif des candidats en terminale technologique ayant reçu une proposition d’admission de la part de l’établissement',\n",
              " 'Dont effectif des candidats boursiers en terminale technologique ayant reçu une proposition d’admission de la part de l’établissement',\n",
              " 'Effectif des candidats en terminale professionnelle ayant reçu une proposition d’admission de la part de l’établissement',\n",
              " 'Dont effectif des candidats boursiers en terminale générale professionnelle ayant reçu une proposition d’admission de la part de l’établissement']"
            ]
          },
          "execution_count": 2,
          "metadata": {},
          "output_type": "execute_result"
        }
      ],
      "source": [
        "list(df.columns.values)"
      ]
    },
    {
      "cell_type": "markdown",
      "metadata": {},
      "source": [
        "Colonnes utiles: Session, Région de l'établissement, Filière de formation très agrégée, Coordonnées GPS de la formation, Statut de l’établissement de la filière de formation (public, privé…)"
      ]
    },
    {
      "cell_type": "code",
      "execution_count": 29,
      "metadata": {},
      "outputs": [],
      "source": [
        "# Regrouper les filières PASS, PACES et LAS\n",
        "df['Filière de formation très agrégée'] = df['Filière de formation très agrégée'].replace('PASS', 'PACES/PASS/LAS')\n",
        "df['Filière de formation très agrégée'] = df['Filière de formation très agrégée'].replace('PACES', 'PACES/PASS/LAS')\n",
        "df['Filière de formation très agrégée'] = df['Filière de formation très agrégée'].replace('Licence_Las', 'PACES/PASS/LAS')\n",
        "\n",
        "# Regrouper les écoles de commerce et d'ingénieur\n",
        "df['Filière de formation très agrégée'] = df['Filière de formation très agrégée'].replace('Ecole de Commerce', 'Grandes écoles')\n",
        "df['Filière de formation très agrégée'] = df['Filière de formation très agrégée'].replace(\"Ecole d'Ingénieur\", 'Grandes écoles')"
      ]
    },
    {
      "cell_type": "code",
      "execution_count": 20,
      "metadata": {},
      "outputs": [],
      "source": [
        "df[\"Néo bacheliers en phase principale\"] = df['Effectif des candidats néo bacheliers généraux en phase principale']+df['Effectif des candidats néo bacheliers technologiques en phase principale']+df['Effectif des candidats néo bacheliers professionnels en phase principale']\n",
        "df[\"Néo bacheliers boursiers en phase principale\"] = df['Dont effectif des candidats boursiers néo bacheliers généraux en phase principale']+df['Dont effectif des candidats boursiers néo bacheliers technologiques en phase principale']+df['Dont effectif des candidats boursiers néo bacheliers professionnels en phase principale']\n",
        "df[\"% boursiers en phase principale\"] = df[\"Néo bacheliers boursiers en phase principale\"]/df[\"Néo bacheliers en phase principale\"]*100\n",
        "\n",
        "df[\"Néo bacheliers classés\"] = df['Effectif des candidats néo bacheliers généraux classés par l’établissement']+df['Effectif des candidats néo bacheliers technologiques classés par l’établissement']+df['Effectif des candidats néo bacheliers professionnels classés par l’établissement']\n",
        "df[\"Néo bacheliers boursiers classés\"] = df['Dont effectif des candidats boursiers néo bacheliers généraux classés par l’établissement']+df['Dont effectif des candidats boursiers néo bacheliers technologiques classés par l’établissement']+df['Dont effectif des candidats boursiers néo bacheliers professionnels classés par l’établissement']\n",
        "df[\"% boursiers classés\"] = df[\"Néo bacheliers boursiers classés\"]/df[\"Néo bacheliers classés\"]*100\n",
        "\n",
        "df[\"Néo bacheliers proposition\"] = df['Effectif des candidats en terminale générale ayant reçu une proposition d’admission de la part de l’établissement']+df['Effectif des candidats en terminale technologique ayant reçu une proposition d’admission de la part de l’établissement']+df['Effectif des candidats en terminale professionnelle ayant reçu une proposition d’admission de la part de l’établissement']\n",
        "df[\"Néo bacheliers boursiers proposition\"] = df['Dont effectif des candidats boursiers en terminale générale ayant reçu une proposition d’admission de la part de l’établissement']+df['Dont effectif des candidats boursiers en terminale technologique ayant reçu une proposition d’admission de la part de l’établissement']+df['Dont effectif des candidats boursiers en terminale générale professionnelle ayant reçu une proposition d’admission de la part de l’établissement']\n",
        "df[\"% boursiers proposition\"] = df[\"Néo bacheliers boursiers proposition\"]/df[\"Néo bacheliers proposition\"]*100"
      ]
    },
    {
      "cell_type": "markdown",
      "metadata": {},
      "source": [
        "## 2. Évolution temporelle des taux de boursiers\n"
      ]
    },
    {
      "cell_type": "code",
      "execution_count": 21,
      "metadata": {
        "colab": {
          "base_uri": "https://localhost:8080/",
          "height": 565
        },
        "id": "lgRYDgUD45zE",
        "outputId": "7501cb44-a950-49c4-b16e-6700a04b9fa4"
      },
      "outputs": [
        {
          "data": {
            "image/png": "[encoded data removed]",
            "text/plain": [
              "<Figure size 1200x600 with 1 Axes>"
            ]
          },
          "metadata": {},
          "output_type": "display_data"
        }
      ],
      "source": [
        "plt.figure(figsize=(12,6))\n",
        "sns.lineplot(\n",
        "    data=df.groupby('Session')['% boursiers en phase principale'].mean().reset_index(),\n",
        "    x='Session',\n",
        "    y='% boursiers en phase principale',\n",
        "    marker='o',\n",
        "    label='Taux de boursiers en phase principale',\n",
        ")\n",
        "sns.lineplot(\n",
        "    data=df.groupby('Session')['% boursiers classés'].mean().reset_index(),\n",
        "    x='Session',\n",
        "    y='% boursiers classés',\n",
        "    marker='o',\n",
        "    label='Taux de boursiers classés',\n",
        ")\n",
        "sns.lineplot(\n",
        "    data=df.groupby('Session')['% boursiers proposition'].mean().reset_index(),\n",
        "    x='Session',\n",
        "    y='% boursiers proposition',\n",
        "    marker='o',\n",
        "    label='Taux de boursiers ayant reçu une proposition',\n",
        ")\n",
        "sns.lineplot(\n",
        "    data=df.groupby('Session')['% d’admis néo bacheliers boursiers'].mean().reset_index(),\n",
        "    x='Session',\n",
        "    y='% d’admis néo bacheliers boursiers',\n",
        "    marker='o',\n",
        "    label='Taux de boursiers admis',\n",
        ")\n",
        "plt.title(\"Évolution du taux d'admission des boursiers (2018-2024)\")\n",
        "plt.grid(True)"
      ]
    },
    {
      "cell_type": "code",
      "execution_count": 31,
      "metadata": {},
      "outputs": [
        {
          "data": {
            "text/html": [
              "\n",
              "        <iframe\n",
              "            width=\"100%\"\n",
              "            height=\"650\"\n",
              "            src=\"http://127.0.0.1:8050/\"\n",
              "            frameborder=\"0\"\n",
              "            allowfullscreen\n",
              "            \n",
              "        ></iframe>\n",
              "        "
            ],
            "text/plain": [
              "<IPython.lib.display.IFrame at 0x7f2cab40dbb0>"
            ]
          },
          "metadata": {},
          "output_type": "display_data"
        }
      ],
      "source": [
        "# Création d'une application Dash\n",
        "app = Dash(__name__)\n",
        "\n",
        "# Application Layout\n",
        "app.layout = html.Div([\n",
        "    #html.H1(\"Proportion d'admis boursiers par filière et par région\", style={'text-align': 'center'}),\n",
        "\n",
        "    # Dropdown pour sélectionner une région\n",
        "    dcc.Dropdown(\n",
        "        id='region-selector',\n",
        "        options=[{'label': region, 'value': region} for region in list(df['Région de l’établissement'].unique())+[\"France\"]],\n",
        "        value='France',  # Région par défaut\n",
        "        placeholder=\"Sélectionnez une région\",\n",
        "        style={'width': '50%', 'margin': 'auto'}\n",
        "    ),\n",
        "\n",
        "    # Dropdown pour sélectionner le statut de l'établissement\n",
        "    dcc.Dropdown(\n",
        "        id='statut-selector',\n",
        "        options=[{'label': statut, 'value': statut} for statut in list(df['Statut de l’établissement de la filière de formation (public, privé…)'].unique())+[\"Tous\"]],\n",
        "        value='Tous',  # Statut par défaut\n",
        "        placeholder=\"Sélectionnez un statut\",\n",
        "        style={'width': '50%', 'margin': 'auto', 'margin-top': '10px'}\n",
        "    ),\n",
        "\n",
        "    # Graphique interactif\n",
        "    dcc.Graph(id='boursiers-graph')\n",
        "])\n",
        "\n",
        "# Callback pour mettre à jour le graphique en fonction de la région et du statut sélectionnés\n",
        "@app.callback(\n",
        "    Output('boursiers-graph', 'figure'),\n",
        "    [Input('region-selector', 'value'), Input('statut-selector', 'value')]\n",
        ")\n",
        "def update_graph(selected_region, selected_statut):\n",
        "    # Filtrer les données par région\n",
        "    if selected_region == 'France':\n",
        "        filtered_df = df\n",
        "    else:\n",
        "        filtered_df = df[df['Région de l’établissement'] == selected_region]\n",
        "    \n",
        "    # Filtrer les données par région et statut\n",
        "    if selected_statut == 'Tous':\n",
        "        filtered_df = filtered_df\n",
        "    else:\n",
        "        filtered_df = filtered_df[filtered_df['Statut de l’établissement de la filière de formation (public, privé…)'] == selected_statut]\n",
        "\n",
        "    # Calcul de la proportion moyenne par filière\n",
        "    filtered_df = (\n",
        "        filtered_df.groupby(['Session',\"Filière de formation très agrégée\"])[['% d’admis néo bacheliers boursiers']]\n",
        "        .mean()\n",
        "        .sort_values(by='Session', ascending=False)\n",
        "    ).reset_index()\n",
        "\n",
        "    # Créer un graphique interactif avec Plotly\n",
        "    fig = px.line(\n",
        "        filtered_df,\n",
        "        x='Session',\n",
        "        y='% d’admis néo bacheliers boursiers',\n",
        "        color='Filière de formation très agrégée',\n",
        "        title=f\"Proportion d'admis boursiers par an et filière de formation selon la Région ({selected_region}), statut de l'établissement ({selected_statut})\",\n",
        "        labels={'% d’admis néo bacheliers boursiers': 'Proportion d’admis boursiers'},\n",
        "        markers=True\n",
        "    )\n",
        "    fig.update_layout(\n",
        "        xaxis_title=\"Session\",\n",
        "        yaxis_title=\"Proportion d'admis boursiers\",\n",
        "        legend_title_text='Filières de formation'  # Changer le titre de la légende ici\n",
        "    )\n",
        "    return fig\n",
        "\n",
        "# Lancer l'application\n",
        "if __name__ == '__main__':\n",
        "    app.run_server(debug=False, use_reloader=False)"
      ]
    },
    {
      "cell_type": "code",
      "execution_count": 32,
      "metadata": {},
      "outputs": [
        {
          "data": {
            "text/html": [
              "\n",
              "        <iframe\n",
              "            width=\"100%\"\n",
              "            height=\"650\"\n",
              "            src=\"http://127.0.0.1:8050/\"\n",
              "            frameborder=\"0\"\n",
              "            allowfullscreen\n",
              "            \n",
              "        ></iframe>\n",
              "        "
            ],
            "text/plain": [
              "<IPython.lib.display.IFrame at 0x7f2caab51850>"
            ]
          },
          "metadata": {},
          "output_type": "display_data"
        }
      ],
      "source": [
        "# Création d'une application Dash\n",
        "app = Dash(__name__)\n",
        "\n",
        "# Application Layout\n",
        "app.layout = html.Div([\n",
        "    #html.H1(\"Proportion de classés boursiers par filière, par région et par \", style={'text-align': 'center'}),\n",
        "\n",
        "    # Dropdown pour sélectionner une région\n",
        "    dcc.Dropdown(\n",
        "        id='region-selector',\n",
        "        options=[{'label': region, 'value': region} for region in list(df['Région de l’établissement'].unique())+[\"France\"]],\n",
        "        value='France',  # Région par défaut\n",
        "        placeholder=\"Sélectionnez une région\",\n",
        "        style={'width': '50%', 'margin': 'auto'}\n",
        "    ),\n",
        "\n",
        "    # Dropdown pour sélectionner le statut de l'établissement\n",
        "    dcc.Dropdown(\n",
        "        id='statut-selector',\n",
        "        options=[{'label': statut, 'value': statut} for statut in list(df['Statut de l’établissement de la filière de formation (public, privé…)'].unique())+[\"Tous\"]],\n",
        "        value='Tous',  # Statut par défaut\n",
        "        placeholder=\"Sélectionnez un statut\",\n",
        "        style={'width': '50%', 'margin': 'auto', 'margin-top': '10px'}\n",
        "    ),\n",
        "\n",
        "    # Dropdown pour sélectionner le type de baccalauréat\n",
        "    dcc.Dropdown(\n",
        "        id='bac-selector',\n",
        "        options=[{'label': bac, 'value': bac} for bac in [\"Général\", \"Technologique\", \"Professionnel\", \"Tous\"]],\n",
        "        value='Tous',  # Statut par défaut\n",
        "        placeholder=\"Sélectionnez un type de baccalauréat\",\n",
        "        style={'width': '50%', 'margin': 'auto', 'margin-top': '10px'}\n",
        "    ),\n",
        "\n",
        "    # Graphique interactif\n",
        "    dcc.Graph(id='boursiers-graph')\n",
        "])\n",
        "\n",
        "# Callback pour mettre à jour le graphique en fonction de la région et du statut sélectionnés\n",
        "@app.callback(\n",
        "    Output('boursiers-graph', 'figure'),\n",
        "    [Input('region-selector', 'value'), Input('statut-selector', 'value'), Input('bac-selector', 'value')]\n",
        ")\n",
        "def update_graph(selected_region, selected_statut, selected_bac):\n",
        "    # Filtrer les données par région\n",
        "    if selected_region == 'France':\n",
        "        filtered_df = df\n",
        "    else:\n",
        "        filtered_df = df[df['Région de l’établissement'] == selected_region]\n",
        "    \n",
        "    # Filtrer les données par région et statut\n",
        "    if selected_statut == 'Tous':\n",
        "        filtered_df = filtered_df\n",
        "    else:\n",
        "        filtered_df = filtered_df[filtered_df['Statut de l’établissement de la filière de formation (public, privé…)'] == selected_statut]\n",
        "\n",
        "    match selected_bac:\n",
        "        case \"Général\":\n",
        "            filtered_df[\"% boursiers\"] = filtered_df['Dont effectif des candidats boursiers néo bacheliers généraux classés par l’établissement']/filtered_df['Effectif des candidats néo bacheliers généraux classés par l’établissement']*100\n",
        "        case \"Technologique\":\n",
        "            filtered_df[\"% boursiers\"] = filtered_df['Dont effectif des candidats boursiers néo bacheliers technologiques classés par l’établissement']/filtered_df['Effectif des candidats néo bacheliers technologiques classés par l’établissement']*100\n",
        "        case \"Professionnel\":\n",
        "            filtered_df[\"% boursiers\"] = filtered_df['Dont effectif des candidats boursiers néo bacheliers professionnels classés par l’établissement']/filtered_df['Effectif des candidats néo bacheliers professionnels classés par l’établissement']*100\n",
        "        case \"Tous\":\n",
        "            filtered_df[\"% boursiers\"] = filtered_df['% boursiers classés']\n",
        "\n",
        "    # Calcul de la proportion moyenne par filière\n",
        "    filtered_df = (\n",
        "        filtered_df.groupby(['Session',\"Filière de formation très agrégée\"])[['% boursiers']]\n",
        "        .mean()\n",
        "        .sort_values(by='Session', ascending=False)\n",
        "    ).reset_index()\n",
        "\n",
        "    # Créer un graphique interactif avec Plotly\n",
        "    fig = px.line(\n",
        "        filtered_df,\n",
        "        x='Session',\n",
        "        y='% boursiers',\n",
        "        color='Filière de formation très agrégée',\n",
        "        title=f\"Proportion de classés boursiers par an et filière de formation selon la Région ({selected_region}), statut de l'établissement ({selected_statut}) et le type de bac ({selected_bac})\",\n",
        "        labels={'% boursiers': 'Proportion de classés boursiers'},\n",
        "        markers=True\n",
        "    )\n",
        "    fig.update_layout(\n",
        "        xaxis_title=\"Session\",\n",
        "        yaxis_title=\"Proportion de classés boursiers\",\n",
        "        legend_title_text='Filières de formation'  # Changer le titre de la légende ici\n",
        "    )\n",
        "    return fig\n",
        "\n",
        "# Lancer l'application\n",
        "if __name__ == '__main__':\n",
        "    app.run_server(debug=False, use_reloader=False)\n"
      ]
    },
    {
      "cell_type": "code",
      "execution_count": 33,
      "metadata": {},
      "outputs": [
        {
          "data": {
            "text/html": [
              "\n",
              "        <iframe\n",
              "            width=\"100%\"\n",
              "            height=\"650\"\n",
              "            src=\"http://127.0.0.1:8050/\"\n",
              "            frameborder=\"0\"\n",
              "            allowfullscreen\n",
              "            \n",
              "        ></iframe>\n",
              "        "
            ],
            "text/plain": [
              "<IPython.lib.display.IFrame at 0x7f2ca2ec0710>"
            ]
          },
          "metadata": {},
          "output_type": "display_data"
        }
      ],
      "source": [
        "# Création d'une application Dash\n",
        "app = Dash(__name__)\n",
        "\n",
        "# Application Layout\n",
        "app.layout = html.Div([\n",
        "    # Dropdown pour sélectionner une région\n",
        "    dcc.Dropdown(\n",
        "        id='region-selector',\n",
        "        options=[{'label': region, 'value': region} for region in list(df['Région de l’établissement'].unique()) + [\"France\"]],\n",
        "        value='France',  # Région par défaut\n",
        "        placeholder=\"Sélectionnez une région\",\n",
        "        style={'width': '50%', 'margin': 'auto'}\n",
        "    ),\n",
        "\n",
        "    # Dropdown pour sélectionner le statut de l'établissement\n",
        "    dcc.Dropdown(\n",
        "        id='statut-selector',\n",
        "        options=[{'label': statut, 'value': statut} for statut in list(df['Statut de l’établissement de la filière de formation (public, privé…)'].unique()) + [\"Tous\"]],\n",
        "        value='Tous',  # Statut par défaut\n",
        "        placeholder=\"Sélectionnez un statut\",\n",
        "        style={'width': '50%', 'margin': 'auto', 'margin-top': '10px'}\n",
        "    ),\n",
        "\n",
        "    # Dropdown pour sélectionner le type de baccalauréat\n",
        "    dcc.Dropdown(\n",
        "        id='bac-selector',\n",
        "        options=[{'label': bac, 'value': bac} for bac in [\"Général\", \"Technologique\", \"Professionnel\", \"Tous\"]],\n",
        "        value='Tous',  # Statut par défaut\n",
        "        placeholder=\"Sélectionnez un type de baccalauréat\",\n",
        "        style={'width': '50%', 'margin': 'auto', 'margin-top': '10px'}\n",
        "    ),\n",
        "\n",
        "    # Dropdown pour sélectionner la session\n",
        "    dcc.Dropdown(\n",
        "        id='session-selector',\n",
        "        options=[{'label': session, 'value': session} for session in df['Session'].unique()],\n",
        "        value=2024,  # Statut par défaut\n",
        "        placeholder=\"Sélectionnez une session\",\n",
        "        style={'width': '50%', 'margin': 'auto', 'margin-top': '10px'}\n",
        "    ),\n",
        "\n",
        "    # Graphique interactif\n",
        "    dcc.Graph(id='boursiers-graph')\n",
        "])\n",
        "\n",
        "# Callback pour mettre à jour le graphique en fonction de la région et du statut sélectionnés\n",
        "@app.callback(\n",
        "    Output('boursiers-graph', 'figure'),\n",
        "    [Input('region-selector', 'value'), Input('statut-selector', 'value'), Input('bac-selector', 'value'), Input('session-selector', 'value')]\n",
        ")\n",
        "def update_graph(selected_region, selected_statut, selected_bac, selected_session):\n",
        "    # Filtrer les données par région\n",
        "    if selected_region == 'France':\n",
        "        filtered_df = df\n",
        "    else:\n",
        "        filtered_df = df[df['Région de l’établissement'] == selected_region]\n",
        "\n",
        "    # Filtrer les données par statut\n",
        "    if selected_statut != 'Tous':\n",
        "        filtered_df = filtered_df[filtered_df['Statut de l’établissement de la filière de formation (public, privé…)'] == selected_statut]\n",
        "\n",
        "    # Calculer le pourcentage de boursiers en fonction du type de bac\n",
        "    match selected_bac:\n",
        "        case \"Général\":\n",
        "            filtered_df[\"% boursiers\"] = filtered_df['Dont effectif des candidats boursiers néo bacheliers généraux classés par l’établissement'] / filtered_df['Effectif des candidats néo bacheliers généraux classés par l’établissement'] * 100\n",
        "        case \"Technologique\":\n",
        "            filtered_df[\"% boursiers\"] = filtered_df['Dont effectif des candidats boursiers néo bacheliers technologiques classés par l’établissement'] / filtered_df['Effectif des candidats néo bacheliers technologiques classés par l’établissement'] * 100\n",
        "        case \"Professionnel\":\n",
        "            filtered_df[\"% boursiers\"] = filtered_df['Dont effectif des candidats boursiers néo bacheliers professionnels classés par l’établissement'] / filtered_df['Effectif des candidats néo bacheliers professionnels classés par l’établissement'] * 100\n",
        "        case \"Tous\":\n",
        "            filtered_df[\"% boursiers\"] = filtered_df['% boursiers classés']\n",
        "\n",
        "    filtered_df = filtered_df[filtered_df['Session'] == selected_session]\n",
        "\n",
        "    # Calcul de la proportion moyenne par filière\n",
        "    filtered_df = (\n",
        "        filtered_df.groupby([\"Filière de formation très agrégée\"])[['% boursiers']]\n",
        "        .mean()\n",
        "        .reset_index()\n",
        "        .sort_values(by='% boursiers', ascending=False)\n",
        "    )\n",
        "\n",
        "    # Créer un graphique interactif avec Plotly\n",
        "    fig = px.bar(\n",
        "        filtered_df,\n",
        "        x='Filière de formation très agrégée',\n",
        "        y='% boursiers',\n",
        "        color='% boursiers',\n",
        "        color_continuous_scale='viridis',\n",
        "        #barmode='group',\n",
        "        title=f\"Proportion de classés boursiers par an et par filière de formation selon la Région ({selected_region}), le statut de l'établissement ({selected_statut}), le type de bac ({selected_bac}) et la session ({selected_session})\",\n",
        "        labels={'% boursiers': 'Proportion de classés boursiers'}\n",
        "    )\n",
        "    fig.update_layout(\n",
        "        xaxis_title=\"Filières de formation\",\n",
        "        yaxis_title=\"Proportion de classés boursiers\",\n",
        "        legend_title_text='Sessions',\n",
        "        #bargap=0.4, \n",
        "        #bargroupgap=0.4\n",
        "    )\n",
        "    return fig\n",
        "\n",
        "# Lancer l'application\n",
        "if __name__ == '__main__':\n",
        "    app.run_server(debug=False, use_reloader=False)\n"
      ]
    },
    {
      "cell_type": "markdown",
      "metadata": {
        "id": "lNFy90tyIXgC"
      },
      "source": [
        "## 3. Proportion d'admis boursiers par filière et par région et par année"
      ]
    },
    {
      "cell_type": "code",
      "execution_count": 12,
      "metadata": {
        "colab": {
          "base_uri": "https://localhost:8080/",
          "height": 671
        },
        "id": "C2iQ6x3P5FMx",
        "outputId": "a4b98dc7-6aa0-44de-ed7f-8e46dbca3b8c"
      },
      "outputs": [
        {
          "data": {
            "text/html": [
              "\n",
              "        <iframe\n",
              "            width=\"100%\"\n",
              "            height=\"650\"\n",
              "            src=\"http://127.0.0.1:8050/\"\n",
              "            frameborder=\"0\"\n",
              "            allowfullscreen\n",
              "            \n",
              "        ></iframe>\n",
              "        "
            ],
            "text/plain": [
              "<IPython.lib.display.IFrame at 0x7f2cac517e30>"
            ]
          },
          "metadata": {},
          "output_type": "display_data"
        }
      ],
      "source": [
        "# Création d'une application Dash\n",
        "app = Dash(__name__)\n",
        "\n",
        "# Préparer les données (exemple de DataFrame)\n",
        "# df = pd.read_csv(\"votre_fichier.csv\") # Chargez vos données ici\n",
        "df['Proportion_boursiers_filière_agrégée'] = (\n",
        "    df['Dont effectif des admis boursiers néo bacheliers'] /\n",
        "    df['Effectif des admis néo bacheliers']\n",
        ")\n",
        "\n",
        "# Liste des régions disponibles\n",
        "regions = df['Région de l’établissement'].unique()\n",
        "regions = ['France'] + list(regions)  # Ajouter \"France\" pour l'ensemble des régions\n",
        "\n",
        "# Liste des années disponibles dans la colonne 'Session'\n",
        "annees = df['Session'].unique()\n",
        "annees = sorted(annees)  # Trier les années\n",
        "\n",
        "# Application Layout\n",
        "app.layout = html.Div([\n",
        "    html.H1(\"Proportion d'admis boursiers par filière et par région\", style={'text-align': 'center'}),\n",
        "\n",
        "    # Dropdown pour sélectionner une région\n",
        "    dcc.Dropdown(\n",
        "        id='region-selector',\n",
        "        options=[{'label': region, 'value': region} for region in regions],\n",
        "        value='France',  # Région par défaut\n",
        "        placeholder=\"Sélectionnez une région\",\n",
        "        style={'width': '50%', 'margin': 'auto'}\n",
        "    ),\n",
        "\n",
        "    # Dropdown pour sélectionner une année\n",
        "    dcc.Dropdown(\n",
        "        id='year-selector',\n",
        "        options=[{'label': annee, 'value': annee} for annee in annees],\n",
        "        value=annees[0],  # Année par défaut (la première année disponible)\n",
        "        placeholder=\"Sélectionnez une année\",\n",
        "        style={'width': '50%', 'margin': 'auto', 'margin-top': '10px'}\n",
        "    ),\n",
        "\n",
        "    # Graphique interactif\n",
        "    dcc.Graph(id='boursiers-graph')\n",
        "])\n",
        "\n",
        "# Callback pour mettre à jour le graphique en fonction de la région et de l'année sélectionnées\n",
        "@app.callback(\n",
        "    Output('boursiers-graph', 'figure'),\n",
        "    [Input('region-selector', 'value'), Input('year-selector', 'value')]\n",
        ")\n",
        "def update_graph(selected_region, selected_year):\n",
        "    # Filtrer les données par région\n",
        "    if selected_region == 'France':\n",
        "        filtered_df = df\n",
        "    else:\n",
        "        filtered_df = df[df['Région de l’établissement'] == selected_region]\n",
        "\n",
        "    # Filtrer les données par année\n",
        "    filtered_df = filtered_df[filtered_df['Session'] == selected_year]\n",
        "\n",
        "    # Calcul de la proportion moyenne par filière\n",
        "    filière_agrégée_analysis = (\n",
        "        filtered_df.groupby('Filière de formation très agrégée')[['Proportion_boursiers_filière_agrégée']]\n",
        "        .mean()\n",
        "        .sort_values(by='Proportion_boursiers_filière_agrégée', ascending=False)\n",
        "    ).reset_index()\n",
        "\n",
        "    # Créer un graphique interactif avec Plotly\n",
        "    fig = px.bar(\n",
        "        filière_agrégée_analysis,\n",
        "        x='Filière de formation très agrégée',\n",
        "        y='Proportion_boursiers_filière_agrégée',\n",
        "        title=f\"Proportion d'admis boursiers par filière ({selected_region}, {selected_year})\",\n",
        "        labels={'Proportion_boursiers_filière_agrégée': 'Proportion d’admis boursiers'},\n",
        "        color='Proportion_boursiers_filière_agrégée',\n",
        "        color_continuous_scale='viridis'\n",
        "    )\n",
        "    fig.update_layout(\n",
        "        xaxis_title=\"Filière de formation très agrégée\",\n",
        "        yaxis_title=\"Proportion d'admis boursiers\"\n",
        "    )\n",
        "    return fig\n",
        "\n",
        "# Lancer l'application\n",
        "if __name__ == '__main__':\n",
        "    app.run_server(debug=False, use_reloader=False)"
      ]
    }
  ],
  "metadata": {
    "colab": {
      "provenance": []
    },
    "kernelspec": {
      "display_name": "base",
      "language": "python",
      "name": "python3"
    },
    "language_info": {
      "codemirror_mode": {
        "name": "ipython",
        "version": 3
      },
      "file_extension": ".py",
      "mimetype": "text/x-python",
      "name": "python",
      "nbconvert_exporter": "python",
      "pygments_lexer": "ipython3",
      "version": "3.12.3"
    }
  },
  "nbformat": 4,
  "nbformat_minor": 0
}
